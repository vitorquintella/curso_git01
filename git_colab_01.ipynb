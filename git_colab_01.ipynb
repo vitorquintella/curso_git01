{
  "nbformat": 4,
  "nbformat_minor": 0,
  "metadata": {
    "colab": {
      "name": "git_colab_01.ipynb",
      "provenance": [],
      "authorship_tag": "ABX9TyOxgNqefkMdkc8V2JDg0SjP",
      "include_colab_link": true
    },
    "kernelspec": {
      "name": "python3",
      "display_name": "Python 3"
    },
    "language_info": {
      "name": "python"
    }
  },
  "cells": [
    {
      "cell_type": "markdown",
      "metadata": {
        "id": "view-in-github",
        "colab_type": "text"
      },
      "source": [
        "<a href=\"https://colab.research.google.com/github/vitorquintella/curso_git01/blob/main/git_colab_01.ipynb\" target=\"_parent\"><img src=\"https://colab.research.google.com/assets/colab-badge.svg\" alt=\"Open In Colab\"/></a>"
      ]
    },
    {
      "cell_type": "code",
      "execution_count": 1,
      "metadata": {
        "colab": {
          "base_uri": "https://localhost:8080/"
        },
        "id": "fD-iUE083MIj",
        "outputId": "4881c4ff-f465-49fd-e9e7-84e0fbea9be7"
      },
      "outputs": [
        {
          "output_type": "stream",
          "name": "stdout",
          "text": [
            "teste de git pelo colab\n"
          ]
        }
      ],
      "source": [
        "print('teste de git pelo colab')"
      ]
    }
  ]
}